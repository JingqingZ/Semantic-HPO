{
 "cells": [
  {
   "cell_type": "code",
   "execution_count": 1,
   "metadata": {
    "collapsed": true
   },
   "outputs": [],
   "source": [
    "data_folder = \"../data/orphadata/\"\n",
    "hpo_file = data_folder + \"en_product4_HPO.xml\"\n",
    "\n",
    "import xml.etree.ElementTree as ET\n",
    "tree = ET.parse(hpo_file)\n",
    "root = tree.getroot()\n"
   ]
  },
  {
   "cell_type": "code",
   "execution_count": 3,
   "metadata": {},
   "outputs": [
    {
     "name": "stdout",
     "output_type": "stream",
     "text": [
      "JDBOR\n{'copyright': 'Orphanet (c) 2019', 'version': '1.2.11 / 4.1.6 [2018-04-12] (orientdb version)', 'date': '2019-03-01 04:07:52'}\n"
     ]
    }
   ],
   "source": [
    "print(root.tag)\n",
    "print(root.attrib)"
   ]
  },
  {
   "cell_type": "code",
   "execution_count": 21,
   "metadata": {},
   "outputs": [],
   "source": [
    "\n",
    "for idx, disorder in enumerate(root[1]):\n",
    "    if idx > 3:\n",
    "        root[1].remove(disorder)\n",
    "\n",
    "tree.write('../data/orphadata/sample.xml')"
   ]
  },
  {
   "cell_type": "code",
   "execution_count": 37,
   "metadata": {
    "collapsed": true
   },
   "outputs": [
    {
     "name": "stdout",
     "output_type": "stream",
     "text": [
      "                                        disease_name disease_id      hpo_id  \\\n0      Multiple epiphyseal dysplasia, Al-Gazali type      17601  HP:0000256   \n1      Multiple epiphyseal dysplasia, Al-Gazali type      17601  HP:0000272   \n2      Multiple epiphyseal dysplasia, Al-Gazali type      17601  HP:0000316   \n3      Multiple epiphyseal dysplasia, Al-Gazali type      17601  HP:0000369   \n4      Multiple epiphyseal dysplasia, Al-Gazali type      17601  HP:0000470   \n5      Multiple epiphyseal dysplasia, Al-Gazali type      17601  HP:0000767   \n6      Multiple epiphyseal dysplasia, Al-Gazali type      17601  HP:0001274   \n7      Multiple epiphyseal dysplasia, Al-Gazali type      17601  HP:0001373   \n8      Multiple epiphyseal dysplasia, Al-Gazali type      17601  HP:0001513   \n9      Multiple epiphyseal dysplasia, Al-Gazali type      17601  HP:0002007   \n10     Multiple epiphyseal dysplasia, Al-Gazali type      17601  HP:0002758   \n11     Multiple epiphyseal dysplasia, Al-Gazali type      17601  HP:0002857   \n12     Multiple epiphyseal dysplasia, Al-Gazali type      17601  HP:0005930   \n13     Multiple epiphyseal dysplasia, Al-Gazali type      17601  HP:0006101   \n14     Multiple epiphyseal dysplasia, Al-Gazali type      17601  HP:0012444   \n15     Multiple epiphyseal dysplasia, Al-Gazali type      17601  HP:0030084   \n16                                 Alexander disease          2  HP:0000218   \n17                                 Alexander disease          2  HP:0000238   \n18                                 Alexander disease          2  HP:0000256   \n19                                 Alexander disease          2  HP:0000470   \n20                                 Alexander disease          2  HP:0000496   \n21                                 Alexander disease          2  HP:0000508   \n22                                 Alexander disease          2  HP:0000639   \n23                                 Alexander disease          2  HP:0000651   \n24                                 Alexander disease          2  HP:0000712   \n25                                 Alexander disease          2  HP:0000716   \n26                                 Alexander disease          2  HP:0000819   \n27                                 Alexander disease          2  HP:0000821   \n28                                 Alexander disease          2  HP:0000822   \n29                                 Alexander disease          2  HP:0000826   \n...                                              ...        ...         ...   \n18641                                    Lassa fever      14397  HP:0000365   \n18642                                    Lassa fever      14397  HP:0000509   \n18643                                    Lassa fever      14397  HP:0000988   \n18644                                    Lassa fever      14397  HP:0001250   \n18645                                    Lassa fever      14397  HP:0001254   \n18646                                    Lassa fever      14397  HP:0001482   \n18647                                    Lassa fever      14397  HP:0001873   \n18648                                    Lassa fever      14397  HP:0001882   \n18649                                    Lassa fever      14397  HP:0001945   \n18650                                    Lassa fever      14397  HP:0002014   \n18651                                    Lassa fever      14397  HP:0002017   \n18652                                    Lassa fever      14397  HP:0002027   \n18653                                    Lassa fever      14397  HP:0002202   \n18654                                    Lassa fever      14397  HP:0002239   \n18655                                    Lassa fever      14397  HP:0002315   \n18656                                    Lassa fever      14397  HP:0002321   \n18657                                    Lassa fever      14397  HP:0002516   \n18658                                    Lassa fever      14397  HP:0002716   \n18659                                    Lassa fever      14397  HP:0002829   \n18660                                    Lassa fever      14397  HP:0003326   \n18661                                    Lassa fever      14397  HP:0005268   \n18662                                    Lassa fever      14397  HP:0006543   \n18663                                    Lassa fever      14397  HP:0012375   \n18664                                    Lassa fever      14397  HP:0012378   \n18665                                    Lassa fever      14397  HP:0012735   \n18666                                    Lassa fever      14397  HP:0100540   \n18667                                    Lassa fever      14397  HP:0100749   \n18668                                    Lassa fever      14397  HP:0100776   \n18669                                    Lassa fever      14397  HP:0400008   \n18670                                      Anodontia      14370  HP:0000674   \n\n                                  hpo_term           hpo_frequency  \n0                             Macrocephaly  Very frequent (99-80%)  \n1                         Malar flattening  Very frequent (99-80%)  \n2                            Hypertelorism  Very frequent (99-80%)  \n3                             Low-set ears  Very frequent (99-80%)  \n4                               Short neck  Very frequent (99-80%)  \n5                         Pectus excavatum  Very frequent (99-80%)  \n6              Agenesis of corpus callosum       Frequent (79-30%)  \n7                        Joint dislocation  Very frequent (99-80%)  \n8                                  Obesity       Frequent (79-30%)  \n9                          Frontal bossing  Very frequent (99-80%)  \n10                          Osteoarthritis  Very frequent (99-80%)  \n11                             Genu valgum  Very frequent (99-80%)  \n12     Abnormality of epiphysis morphology  Very frequent (99-80%)  \n13                       Finger syndactyly  Very frequent (99-80%)  \n14                           Brain atrophy       Frequent (79-30%)  \n15                            Clinodactyly  Very frequent (99-80%)  \n16                             High palate      Occasional (29-5%)  \n17                           Hydrocephalus      Occasional (29-5%)  \n18                            Macrocephaly  Very frequent (99-80%)  \n19                              Short neck      Occasional (29-5%)  \n20             Abnormality of eye movement       Frequent (79-30%)  \n21                                  Ptosis       Frequent (79-30%)  \n22                               Nystagmus       Frequent (79-30%)  \n23                                Diplopia       Frequent (79-30%)  \n24                      Emotional lability       Frequent (79-30%)  \n25                            Depressivity       Frequent (79-30%)  \n26                       Diabetes mellitus      Occasional (29-5%)  \n27                          Hypothyroidism      Occasional (29-5%)  \n28                            Hypertension      Occasional (29-5%)  \n29                      Precocious puberty      Occasional (29-5%)  \n...                                    ...                     ...  \n18641                   Hearing impairment      Occasional (29-5%)  \n18642                       Conjunctivitis       Frequent (79-30%)  \n18643                            Skin rash      Occasional (29-5%)  \n18644                             Seizures      Occasional (29-5%)  \n18645                             Lethargy      Occasional (29-5%)  \n18646                  Subcutaneous nodule       Frequent (79-30%)  \n18647                     Thrombocytopenia       Frequent (79-30%)  \n18648                           Leukopenia       Frequent (79-30%)  \n18649                                Fever  Very frequent (99-80%)  \n18650                             Diarrhea       Frequent (79-30%)  \n18651                  Nausea and vomiting       Frequent (79-30%)  \n18652                       Abdominal pain       Frequent (79-30%)  \n18653                     Pleural effusion      Occasional (29-5%)  \n18654          Gastrointestinal hemorrhage      Occasional (29-5%)  \n18655                             Headache       Frequent (79-30%)  \n18656                              Vertigo       Frequent (79-30%)  \n18657      Increased intracranial pressure      Occasional (29-5%)  \n18658                      Lymphadenopathy      Occasional (29-5%)  \n18659                           Arthralgia       Frequent (79-30%)  \n18660                              Myalgia       Frequent (79-30%)  \n18661                 Spontaneous abortion  Very frequent (99-80%)  \n18662             Cardiorespiratory arrest      Occasional (29-5%)  \n18663                             Chemosis       Frequent (79-30%)  \n18664                              Fatigue  Very frequent (99-80%)  \n18665                                Cough       Frequent (79-30%)  \n18666                      Palpebral edema       Frequent (79-30%)  \n18667                           Chest pain       Frequent (79-30%)  \n18668                Recurrent pharyngitis       Frequent (79-30%)  \n18669                     Menometrorrhagia  Very frequent (99-80%)  \n18670                            Anodontia  Very frequent (99-80%)  \n\n[18671 rows x 5 columns]\n"
     ]
    }
   ],
   "source": [
    "import pandas as pd\n",
    "\n",
    "df = pd.DataFrame(columns=[\"disease_name\", 'disease_id', 'hpo_id', 'hpo_term', 'hpo_frequency'])\n",
    "\n",
    "disorderlist = root[1]\n",
    "idx = 0\n",
    "for disease in disorderlist:\n",
    "    disease_name = disease.find('Name').text\n",
    "    disease_id = disease.attrib['id']\n",
    "    for hpo in disease.find('HPODisorderAssociationList'):\n",
    "        hpo_id = hpo.find('HPO').find('HPOId').text\n",
    "        hpo_term = hpo.find('HPO').find('HPOTerm').text\n",
    "        hpo_frequency = hpo.find('HPOFrequency').find('Name').text\n",
    "        df.loc[idx] = [disease_name, disease_id, hpo_id, hpo_term, hpo_frequency]\n",
    "        idx += 1\n",
    "\n",
    "print(df)\n"
   ]
  },
  {
   "cell_type": "code",
   "execution_count": null,
   "metadata": {},
   "outputs": [],
   "source": []
  }
 ],
 "metadata": {
  "kernelspec": {
   "display_name": "Python 2",
   "language": "python",
   "name": "python2"
  },
  "language_info": {
   "codemirror_mode": {
    "name": "ipython",
    "version": 2
   },
   "file_extension": ".py",
   "mimetype": "text/x-python",
   "name": "python",
   "nbconvert_exporter": "python",
   "pygments_lexer": "ipython2",
   "version": "2.7.6"
  }
 },
 "nbformat": 4,
 "nbformat_minor": 0
}
